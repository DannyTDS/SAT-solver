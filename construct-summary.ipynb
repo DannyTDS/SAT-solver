{
 "cells": [
  {
   "cell_type": "code",
   "execution_count": 2,
   "metadata": {},
   "outputs": [],
   "source": [
    "import csv"
   ]
  },
  {
   "cell_type": "code",
   "execution_count": 3,
   "metadata": {},
   "outputs": [
    {
     "name": "stdout",
     "output_type": "stream",
     "text": [
      "kSATu-opt,ztong2,240,92,148,0,240\n"
     ]
    }
   ],
   "source": [
    "def readCSV(filepath):\n",
    "    ipt = open(filepath, \"r\")\n",
    "    reader = csv.reader(ipt, delimiter=\",\")\n",
    "    problemCnt = satCnt = unsatCnt = hasAnsCnt = correctAnsCnt = 0\n",
    "    for line in reader:\n",
    "        problemCnt += 1\n",
    "        _, _, _, _, _, prediction, agreed, *_ = line\n",
    "        if prediction == \"S\":\n",
    "            satCnt += 1\n",
    "        else:\n",
    "            unsatCnt += 1\n",
    "        if agreed != \"-1\":\n",
    "            correctAnsCnt += 1\n",
    "            if agreed == \"1\":\n",
    "                hasAnsCnt += 1\n",
    "    filename = filepath[:filepath.find(\".\")]\n",
    "    summaryLine = \",\".join([filename, \"ztong2\", str(problemCnt), str(satCnt), str(unsatCnt), str(hasAnsCnt), str(correctAnsCnt)])\n",
    "    print(summaryLine)\n",
    "\n",
    "filepath = \"kSATu-opt.csv\"\n",
    "readCSV(filepath)\n"
   ]
  }
 ],
 "metadata": {
  "kernelspec": {
   "display_name": "Python 3.9.10 64-bit",
   "language": "python",
   "name": "python3"
  },
  "language_info": {
   "codemirror_mode": {
    "name": "ipython",
    "version": 3
   },
   "file_extension": ".py",
   "mimetype": "text/x-python",
   "name": "python",
   "nbconvert_exporter": "python",
   "pygments_lexer": "ipython3",
   "version": "3.9.10"
  },
  "orig_nbformat": 4,
  "vscode": {
   "interpreter": {
    "hash": "aee8b7b246df8f9039afb4144a1f6fd8d2ca17a180786b69acc140d282b71a49"
   }
  }
 },
 "nbformat": 4,
 "nbformat_minor": 2
}
