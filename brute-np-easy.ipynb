{
 "cells": [
  {
   "cell_type": "code",
   "execution_count": null,
   "metadata": {},
   "outputs": [],
   "source": [
    "#! /usr/bin/env python3\n",
    "\n",
    "# Libraries\n",
    "import time"
   ]
  },
  {
   "cell_type": "markdown",
   "metadata": {},
   "source": [
    "### Define generator to read the next WFF from given file"
   ]
  },
  {
   "cell_type": "code",
   "execution_count": null,
   "metadata": {},
   "outputs": [],
   "source": [
    "class CNF:\n",
    "    def __init__(self, problemID, maxNLiterals, nVars, nClauses, stdAnswer, wff):\n",
    "        self.problemID = problemID\n",
    "        self.maxNLiterals = maxNLiterals\n",
    "        self.nVars = nVars\n",
    "        self.nClauses = nClauses\n",
    "        self.stdAnswer = stdAnswer\n",
    "        self.wff = wff\n",
    "\n",
    "\n",
    "def CNFObjectGenerator(filepath):\n",
    "    with open(filepath) as f:\n",
    "        wff = []\n",
    "        for line in f:\n",
    "            line = line.strip()\n",
    "            if line.startswith('c'):\n",
    "                if wff:\n",
    "                    yield CNF(int(problemID), int(maxNLiterals), int(nVars), int(nClauses), stdAnswer, wff)\n",
    "                    wff = []\n",
    "                _, problemID, maxNLiterals, stdAnswer = line.split(\" \")\n",
    "            elif line.startswith('p'):\n",
    "                _, _, nVars, nClauses = line.split(\" \")\n",
    "            else:\n",
    "                literals = [int(x) for x in line.split(',')]\n",
    "                wff.append(literals[:-1])"
   ]
  },
  {
   "cell_type": "markdown",
   "metadata": {},
   "source": [
    "### Define generator to give the next input combination for a given WFF"
   ]
  },
  {
   "cell_type": "code",
   "execution_count": null,
   "metadata": {},
   "outputs": [],
   "source": [
    "def InputGenerator(cnf):\n",
    "    for i in range(2 ** cnf.nVars):\n",
    "        bin_str = bin(i)[2:].zfill(cnf.nVars)\n",
    "        comb = []\n",
    "        for n in bin_str:\n",
    "            comb.append(1) if int(n)==1 else comb.append(-1)\n",
    "        yield comb"
   ]
  },
  {
   "cell_type": "markdown",
   "metadata": {},
   "source": [
    "### Test with opening file and getting input"
   ]
  },
  {
   "cell_type": "code",
   "execution_count": null,
   "metadata": {},
   "outputs": [],
   "source": [
    "# filepath = \"kSAT.cnf\"\n",
    "# cnfGen = CNFObjectGenerator(filepath)\n",
    "\n",
    "# for cnf in cnfGen:\n",
    "#     print(f\"\\nGenerating input for {cnf.problemID}, with {cnf.nVars} vars...\")\n",
    "#     inputGen = InputGenerator(cnf)\n",
    "#     print(inputGen)"
   ]
  },
  {
   "cell_type": "markdown",
   "metadata": {},
   "source": [
    "### Define function testing a wff with a given input"
   ]
  },
  {
   "cell_type": "code",
   "execution_count": null,
   "metadata": {},
   "outputs": [],
   "source": [
    "def verify(wff, assignment):\n",
    "    for clause in wff:\n",
    "        clauseSatisfied = False\n",
    "        for literal in clause:\n",
    "            varIndex = abs(literal) - 1\n",
    "            if assignment[varIndex] * literal > 0:       # ie, signs in literal and assignment makes positive result\n",
    "                clauseSatisfied = True\n",
    "                break\n",
    "        if not clauseSatisfied:\n",
    "            return False\n",
    "    return True"
   ]
  },
  {
   "cell_type": "markdown",
   "metadata": {},
   "source": [
    "### Try out with a few CNFs and check if the output is correct"
   ]
  },
  {
   "cell_type": "code",
   "execution_count": null,
   "metadata": {},
   "outputs": [],
   "source": [
    "filepath = \"kSAT.cnf\"\n",
    "cnfGen = CNFObjectGenerator(filepath)\n",
    "\n",
    "startTime = time.time()\n",
    "\n",
    "totalCnt, correctCnt = 0, 0\n",
    "for cnf in cnfGen:\n",
    "    totalCnt += 1\n",
    "    inputGen = InputGenerator(cnf)\n",
    "    print(f\"Verifying assignments for {cnf.problemID}, with {cnf.nVars} vars...\")\n",
    "    satisfiability = \"U\"\n",
    "    for assignment in inputGen:\n",
    "        if verify(cnf.wff, assignment):\n",
    "            satisfiability = \"S\"\n",
    "            break\n",
    "    if satisfiability == cnf.stdAnswer:\n",
    "        correctCnt += 1\n",
    "\n",
    "print(f\"Correct Rate: {correctCnt/totalCnt * 100}%.\")\n",
    "\n",
    "endTime = time.time()\n",
    "print(f\"Time elapsed: {(endTime - startTime)/60:.2f} minutes.\")"
   ]
  }
 ],
 "metadata": {
  "kernelspec": {
   "display_name": "Python 3.9.10 64-bit",
   "language": "python",
   "name": "python3"
  },
  "language_info": {
   "codemirror_mode": {
    "name": "ipython",
    "version": 3
   },
   "file_extension": ".py",
   "mimetype": "text/x-python",
   "name": "python",
   "nbconvert_exporter": "python",
   "pygments_lexer": "ipython3",
   "version": "3.9.10"
  },
  "orig_nbformat": 4,
  "vscode": {
   "interpreter": {
    "hash": "aee8b7b246df8f9039afb4144a1f6fd8d2ca17a180786b69acc140d282b71a49"
   }
  }
 },
 "nbformat": 4,
 "nbformat_minor": 2
}
